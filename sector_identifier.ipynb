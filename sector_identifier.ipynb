{
 "cells": [
  {
   "cell_type": "code",
   "execution_count": 1,
   "metadata": {},
   "outputs": [],
   "source": [
    "from openai import OpenAI\n",
    "import pandas as pd"
   ]
  },
  {
   "cell_type": "code",
   "execution_count": 2,
   "metadata": {},
   "outputs": [],
   "source": [
    "nasdaq_companies = pd.read_csv('nasdaq_comps.csv')"
   ]
  },
  {
   "cell_type": "code",
   "execution_count": null,
   "metadata": {},
   "outputs": [],
   "source": [
    "# Initialize the client with your API key\n",
    "client = OpenAI(api_key=\"API-Key\")"
   ]
  },
  {
   "cell_type": "code",
   "execution_count": 4,
   "metadata": {},
   "outputs": [],
   "source": [
    "# Function to generate text\n",
    "def generate_text(prompt, model=\"gpt-4o\"):\n",
    "    response = client.chat.completions.create(\n",
    "        model=model,\n",
    "        messages=[\n",
    "            {\"role\": \"system\", \"content\": \"I will give you a company with its stock symbol, description, name, nasdaqs sector and industry desctiption. Categorize it into a single, specific sector or tech subsector. Provide only the sector name without explanation. Use categories such as Big Tech, FinTech, HealthTech, EdTech, PropTech, HR Tech, Cybersecurity, as well as broader sectors like Healthcare, Manufacturing, Real Estate, etc. If you can't determine the sector, respond with 'Unknown'.\"},\n",
    "            {\"role\": \"user\", \"content\": prompt}\n",
    "        ]\n",
    "    )\n",
    "    return response.choices[0].message.content"
   ]
  },
  {
   "cell_type": "code",
   "execution_count": 5,
   "metadata": {},
   "outputs": [],
   "source": [
    "for i in range(len(nasdaq_companies)):\n",
    "    row_data = nasdaq_companies.loc[i, :].to_string()\n",
    "    result = generate_text(row_data)\n",
    "    nasdaq_companies.loc[i, 'sector'] = result"
   ]
  },
  {
   "cell_type": "code",
   "execution_count": 6,
   "metadata": {},
   "outputs": [],
   "source": [
    "nasdaq_companies.to_excel('nasdaq_sectors.xlsx', index=False)"
   ]
  },
  {
   "cell_type": "code",
   "execution_count": 30,
   "metadata": {},
   "outputs": [],
   "source": [
    "nasdaq_companies = pd.read_excel('nasdaq_sectors.xlsx')"
   ]
  },
  {
   "cell_type": "code",
   "execution_count": 31,
   "metadata": {},
   "outputs": [
    {
     "data": {
      "text/plain": [
       "array(['Healthcare', 'Manufacturing', 'Unknown', 'FinTech', 'PropTech',\n",
       "       'Big Tech', 'Real Estate', 'HealthTech', 'Finance', 'HR Tech',\n",
       "       'Energy', 'Utilities', 'EdTech', 'AgriTech', 'Internet of Things',\n",
       "       'Cybersecurity', 'Renewable Energy', 'Travel & Leisure',\n",
       "       'Consumer Discretionary', 'Tech', 'Telecommunications',\n",
       "       'Consumer Electronics', 'Engineering & Construction', 'Logistics',\n",
       "       'Consumer Staples', 'Retail', 'InsurTech', 'AdTech',\n",
       "       'Consumer Goods', 'Agriculture', 'E-commerce', 'Tech Hardware',\n",
       "       'Mining', 'Hospitality', 'Logistics Tech', 'Autonomous Vehicles',\n",
       "       'Industrials', 'Technology', 'Real Estate.', 'Automotive Tech',\n",
       "       'Consulting', ' Utilities', 'EnergyTech', 'Entertainment',\n",
       "       'Consumer Tech', 'Construction', 'Biotech', 'Health Tech',\n",
       "       'Consulting and Engineering', 'Finance.', 'CleanTech',\n",
       "       'Agribusiness', 'TravelTech', 'Industrial Tech', 'Gaming',\n",
       "       'Automotive', 'Energy Tech', 'Clean Energy Tech',\n",
       "       'Financial Services', 'Green Energy Tech', 'Biotechnology',\n",
       "       'Consumer Retail', 'Shipping & Logistics',\n",
       "       'Shipping and Logistics', 'Marketing Tech', 'Basic Materials',\n",
       "       'Cloud Computing', 'HC', 'Cloud Tech', 'Supply Chain Tech',\n",
       "       'Transportation', 'Media & Entertainment', 'Telecom',\n",
       "       'Travel Tech', 'IoT Tech', 'Consumer Technology',\n",
       "       'Food & Beverage', 'Security Tech', 'Construction Tech'],\n",
       "      dtype=object)"
      ]
     },
     "execution_count": 31,
     "metadata": {},
     "output_type": "execute_result"
    }
   ],
   "source": [
    "nasdaq_companies['sector'].unique()"
   ]
  },
  {
   "cell_type": "code",
   "execution_count": 32,
   "metadata": {},
   "outputs": [],
   "source": [
    "nasdaq_companies = nasdaq_companies[nasdaq_companies['sector'] != 'Unknown']"
   ]
  },
  {
   "cell_type": "code",
   "execution_count": 33,
   "metadata": {},
   "outputs": [],
   "source": [
    "# Normalize similar sector names\n",
    "nasdaq_companies['sector'] = nasdaq_companies['sector'].replace({\n",
    "    'HealthTech': 'Health Tech',\n",
    "    'Health Tech': 'Health Tech',\n",
    "    'HC': 'Health Tech',\n",
    "    'Biotech': 'Biotechnology',\n",
    "    ' Utilities': 'Utilities',\n",
    "    'Real Estate.': 'Real Estate',\n",
    "    'FinTech': 'Finance',\n",
    "    'Finance.': 'Finance',\n",
    "    'EnergyTech': 'Energy Tech',\n",
    "    'Clean Energy Tech': 'Energy Tech',\n",
    "    'Green Energy Tech': 'Energy Tech',\n",
    "    'TravelTech': 'Travel Tech',\n",
    "    'Gaming': 'Entertainment',\n",
    "    'IoT Tech': 'Internet of Things',\n",
    "    'Logistics Tech': 'Logistics',\n",
    "    'Shipping & Logistics': 'Logistics',\n",
    "    'Shipping and Logistics': 'Logistics'\n",
    "    # Add more normalization mappings as needed\n",
    "})"
   ]
  },
  {
   "cell_type": "code",
   "execution_count": 35,
   "metadata": {},
   "outputs": [],
   "source": [
    "# Remove duplicates based on the 'Symbol' column, keeping the first occurrence\n",
    "nasdaq_companies = nasdaq_companies.drop_duplicates(subset='Symbol')"
   ]
  },
  {
   "cell_type": "code",
   "execution_count": 36,
   "metadata": {},
   "outputs": [
    {
     "data": {
      "text/plain": [
       "array(['Healthcare', 'Manufacturing', 'Finance', 'PropTech', 'Big Tech',\n",
       "       'Real Estate', 'Health Tech', 'HR Tech', 'Energy', 'Utilities',\n",
       "       'EdTech', 'AgriTech', 'Internet of Things', 'Cybersecurity',\n",
       "       'Renewable Energy', 'Travel & Leisure', 'Consumer Discretionary',\n",
       "       'Tech', 'Telecommunications', 'Consumer Electronics',\n",
       "       'Engineering & Construction', 'Logistics', 'Consumer Staples',\n",
       "       'Retail', 'InsurTech', 'AdTech', 'Consumer Goods', 'Agriculture',\n",
       "       'E-commerce', 'Tech Hardware', 'Mining', 'Hospitality',\n",
       "       'Autonomous Vehicles', 'Industrials', 'Technology',\n",
       "       'Automotive Tech', 'Consulting', 'Energy Tech', 'Entertainment',\n",
       "       'Consumer Tech', 'Construction', 'Biotechnology',\n",
       "       'Consulting and Engineering', 'CleanTech', 'Agribusiness',\n",
       "       'Travel Tech', 'Industrial Tech', 'Automotive',\n",
       "       'Financial Services', 'Consumer Retail', 'Marketing Tech',\n",
       "       'Basic Materials', 'Cloud Computing', 'Cloud Tech',\n",
       "       'Supply Chain Tech', 'Transportation', 'Media & Entertainment',\n",
       "       'Telecom', 'Consumer Technology', 'Food & Beverage',\n",
       "       'Security Tech', 'Construction Tech'], dtype=object)"
      ]
     },
     "execution_count": 36,
     "metadata": {},
     "output_type": "execute_result"
    }
   ],
   "source": [
    "['sector'nasdaq_companies].unique()"
   ]
  },
  {
   "cell_type": "code",
   "execution_count": 37,
   "metadata": {},
   "outputs": [
    {
     "data": {
      "text/html": [
       "<div>\n",
       "<style scoped>\n",
       "    .dataframe tbody tr th:only-of-type {\n",
       "        vertical-align: middle;\n",
       "    }\n",
       "\n",
       "    .dataframe tbody tr th {\n",
       "        vertical-align: top;\n",
       "    }\n",
       "\n",
       "    .dataframe thead th {\n",
       "        text-align: right;\n",
       "    }\n",
       "</style>\n",
       "<table border=\"1\" class=\"dataframe\">\n",
       "  <thead>\n",
       "    <tr style=\"text-align: right;\">\n",
       "      <th></th>\n",
       "      <th>Symbol</th>\n",
       "      <th>Name</th>\n",
       "      <th>Description</th>\n",
       "      <th>NASDAQ Sector</th>\n",
       "      <th>nasdaq industries</th>\n",
       "      <th>sector</th>\n",
       "    </tr>\n",
       "  </thead>\n",
       "  <tbody>\n",
       "    <tr>\n",
       "      <th>0</th>\n",
       "      <td>A</td>\n",
       "      <td>Agilent Technologies, Inc.</td>\n",
       "      <td>Agilent Technologies, Inc. provides applicatio...</td>\n",
       "      <td>Industrials</td>\n",
       "      <td>Biotechnology: Laboratory Analytical Instruments</td>\n",
       "      <td>Healthcare</td>\n",
       "    </tr>\n",
       "    <tr>\n",
       "      <th>1</th>\n",
       "      <td>AA</td>\n",
       "      <td>Alcoa Corporation</td>\n",
       "      <td>Alcoa Corporation, together with its subsidiar...</td>\n",
       "      <td>Industrials</td>\n",
       "      <td>Aluminum</td>\n",
       "      <td>Manufacturing</td>\n",
       "    </tr>\n",
       "    <tr>\n",
       "      <th>4</th>\n",
       "      <td>AACIW</td>\n",
       "      <td>Armada Acquisition Corp. I Warrant</td>\n",
       "      <td>Armada Acquisition Corp. I does not have signi...</td>\n",
       "      <td>Finance</td>\n",
       "      <td>Blank Checks</td>\n",
       "      <td>Finance</td>\n",
       "    </tr>\n",
       "    <tr>\n",
       "      <th>6</th>\n",
       "      <td>AADI</td>\n",
       "      <td>Aadi Bioscience, Inc.</td>\n",
       "      <td>Aadi Bioscience, Inc., a biopharmaceutical com...</td>\n",
       "      <td>Finance</td>\n",
       "      <td>Blank Checks</td>\n",
       "      <td>Healthcare</td>\n",
       "    </tr>\n",
       "    <tr>\n",
       "      <th>7</th>\n",
       "      <td>AAGR</td>\n",
       "      <td>African Agriculture Holdings In</td>\n",
       "      <td>African Agriculture Holdings Inc., through its...</td>\n",
       "      <td>Health Care</td>\n",
       "      <td>Biotechnology: Pharmaceutical Preparations</td>\n",
       "      <td>Healthcare</td>\n",
       "    </tr>\n",
       "    <tr>\n",
       "      <th>...</th>\n",
       "      <td>...</td>\n",
       "      <td>...</td>\n",
       "      <td>...</td>\n",
       "      <td>...</td>\n",
       "      <td>...</td>\n",
       "      <td>...</td>\n",
       "    </tr>\n",
       "    <tr>\n",
       "      <th>6230</th>\n",
       "      <td>ZURA</td>\n",
       "      <td>Zura Bio Limited</td>\n",
       "      <td>Zura Bio Limited, a clinical-stage biotechnolo...</td>\n",
       "      <td>Finance</td>\n",
       "      <td>Investment Bankers/Brokers/Service</td>\n",
       "      <td>Healthcare</td>\n",
       "    </tr>\n",
       "    <tr>\n",
       "      <th>6231</th>\n",
       "      <td>ZURAW</td>\n",
       "      <td>Zura Bio Limited Warrants</td>\n",
       "      <td>No description available</td>\n",
       "      <td>Health Care</td>\n",
       "      <td>Biotechnology: Biological Products (No Diagnos...</td>\n",
       "      <td>Health Tech</td>\n",
       "    </tr>\n",
       "    <tr>\n",
       "      <th>6233</th>\n",
       "      <td>ZVRA</td>\n",
       "      <td>Zevra Therapeutics, Inc.</td>\n",
       "      <td>Zevra Therapeutics, Inc. discovers and develop...</td>\n",
       "      <td>Telecommunications</td>\n",
       "      <td>Telecommunications Equipment</td>\n",
       "      <td>Health Tech</td>\n",
       "    </tr>\n",
       "    <tr>\n",
       "      <th>6236</th>\n",
       "      <td>ZYME</td>\n",
       "      <td>Zymeworks Inc.</td>\n",
       "      <td>Zymeworks Inc., a clinical-stage biopharmaceut...</td>\n",
       "      <td>Consumer Discretionary</td>\n",
       "      <td>Other Consumer Services</td>\n",
       "      <td>Healthcare</td>\n",
       "    </tr>\n",
       "    <tr>\n",
       "      <th>6237</th>\n",
       "      <td>ZYXI</td>\n",
       "      <td>Zynex, Inc.</td>\n",
       "      <td>Zynex, Inc., together with its subsidiaries, d...</td>\n",
       "      <td>Consumer Discretionary</td>\n",
       "      <td>Other Specialty Stores</td>\n",
       "      <td>Healthcare</td>\n",
       "    </tr>\n",
       "  </tbody>\n",
       "</table>\n",
       "<p>3948 rows × 6 columns</p>\n",
       "</div>"
      ],
      "text/plain": [
       "     Symbol                                Name  \\\n",
       "0         A          Agilent Technologies, Inc.   \n",
       "1        AA                   Alcoa Corporation   \n",
       "4     AACIW  Armada Acquisition Corp. I Warrant   \n",
       "6      AADI               Aadi Bioscience, Inc.   \n",
       "7      AAGR     African Agriculture Holdings In   \n",
       "...     ...                                 ...   \n",
       "6230   ZURA                    Zura Bio Limited   \n",
       "6231  ZURAW           Zura Bio Limited Warrants   \n",
       "6233   ZVRA            Zevra Therapeutics, Inc.   \n",
       "6236   ZYME                      Zymeworks Inc.   \n",
       "6237   ZYXI                         Zynex, Inc.   \n",
       "\n",
       "                                            Description  \\\n",
       "0     Agilent Technologies, Inc. provides applicatio...   \n",
       "1     Alcoa Corporation, together with its subsidiar...   \n",
       "4     Armada Acquisition Corp. I does not have signi...   \n",
       "6     Aadi Bioscience, Inc., a biopharmaceutical com...   \n",
       "7     African Agriculture Holdings Inc., through its...   \n",
       "...                                                 ...   \n",
       "6230  Zura Bio Limited, a clinical-stage biotechnolo...   \n",
       "6231                           No description available   \n",
       "6233  Zevra Therapeutics, Inc. discovers and develop...   \n",
       "6236  Zymeworks Inc., a clinical-stage biopharmaceut...   \n",
       "6237  Zynex, Inc., together with its subsidiaries, d...   \n",
       "\n",
       "               NASDAQ Sector  \\\n",
       "0                Industrials   \n",
       "1                Industrials   \n",
       "4                    Finance   \n",
       "6                    Finance   \n",
       "7                Health Care   \n",
       "...                      ...   \n",
       "6230                 Finance   \n",
       "6231             Health Care   \n",
       "6233      Telecommunications   \n",
       "6236  Consumer Discretionary   \n",
       "6237  Consumer Discretionary   \n",
       "\n",
       "                                      nasdaq industries         sector  \n",
       "0      Biotechnology: Laboratory Analytical Instruments     Healthcare  \n",
       "1                                              Aluminum  Manufacturing  \n",
       "4                                          Blank Checks        Finance  \n",
       "6                                          Blank Checks     Healthcare  \n",
       "7            Biotechnology: Pharmaceutical Preparations     Healthcare  \n",
       "...                                                 ...            ...  \n",
       "6230                 Investment Bankers/Brokers/Service     Healthcare  \n",
       "6231  Biotechnology: Biological Products (No Diagnos...    Health Tech  \n",
       "6233                       Telecommunications Equipment    Health Tech  \n",
       "6236                            Other Consumer Services     Healthcare  \n",
       "6237                             Other Specialty Stores     Healthcare  \n",
       "\n",
       "[3948 rows x 6 columns]"
      ]
     },
     "execution_count": 37,
     "metadata": {},
     "output_type": "execute_result"
    }
   ],
   "source": [
    "nasdaq_companies"
   ]
  },
  {
   "cell_type": "code",
   "execution_count": null,
   "metadata": {},
   "outputs": [],
   "source": []
  }
 ],
 "metadata": {
  "colab": {
   "authorship_tag": "ABX9TyMUWa5gkKn+16APsUK2u0nG",
   "provenance": []
  },
  "kernelspec": {
   "display_name": "Python 3",
   "name": "python3"
  },
  "language_info": {
   "codemirror_mode": {
    "name": "ipython",
    "version": 3
   },
   "file_extension": ".py",
   "mimetype": "text/x-python",
   "name": "python",
   "nbconvert_exporter": "python",
   "pygments_lexer": "ipython3",
   "version": "3.11.9"
  }
 },
 "nbformat": 4,
 "nbformat_minor": 0
}
